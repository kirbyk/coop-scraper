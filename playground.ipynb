{
 "cells": [
  {
   "cell_type": "code",
   "execution_count": 1,
   "metadata": {},
   "outputs": [],
   "source": [
    "import mechanicalsoup\n",
    "from dotenv import load_dotenv\n",
    "import os\n",
    "import pymongo\n",
    "from datetime import datetime\n",
    "from zoneinfo import ZoneInfo\n",
    "import sys\n",
    "\n",
    "\n",
    "load_dotenv('.env')\n",
    "\n",
    "\n",
    "browser = mechanicalsoup.StatefulBrowser()\n",
    "\n",
    "def login(username, password):\n",
    "    browser.open(\"https://members.foodcoop.com/services/login/\")\n",
    "\n",
    "    browser.select_form('form[action=\"/services/login/\"]')\n",
    "    browser[\"username\"] = username\n",
    "    browser[\"password\"] = password\n",
    "    resp = browser.submit_selected()\n",
    "\n",
    "    if resp.url == \"https://members.foodcoop.com/services/login/\":\n",
    "        raise Exception(\"Login failed\")\n",
    "    else:\n",
    "        print(\"Login successful\")"
   ]
  },
  {
   "cell_type": "code",
   "execution_count": 2,
   "metadata": {},
   "outputs": [],
   "source": [
    "def logout():\n",
    "    browser.open(\"https://members.foodcoop.com/services/logout/\")"
   ]
  },
  {
   "cell_type": "code",
   "execution_count": 3,
   "metadata": {},
   "outputs": [
    {
     "name": "stdout",
     "output_type": "stream",
     "text": [
      "Login successful\n"
     ]
    }
   ],
   "source": [
    "logout()\n",
    "login(os.getenv(\"COOP_USERNAME\"), os.getenv(\"COOP_PASSWORD\"))"
   ]
  },
  {
   "cell_type": "code",
   "execution_count": 4,
   "metadata": {},
   "outputs": [],
   "source": [
    "def current_time_hourly():\n",
    "    now = datetime.now(ZoneInfo(\"America/New_York\"))\n",
    "    return now.replace(minute=0, second=0, microsecond=0)"
   ]
  },
  {
   "cell_type": "code",
   "execution_count": 5,
   "metadata": {},
   "outputs": [
    {
     "data": {
      "text/plain": [
       "<Response [200]>"
      ]
     },
     "execution_count": 5,
     "metadata": {},
     "output_type": "execute_result"
    }
   ],
   "source": [
    "shifts = []\n",
    "browser.open(\"https://members.foodcoop.com/services/shifts/\")\n",
    "#browser.open(\"https://members.foodcoop.com/services/shifts/0/0/0/2024-09-07/\")"
   ]
  },
  {
   "cell_type": "code",
   "execution_count": 6,
   "metadata": {},
   "outputs": [
    {
     "name": "stdout",
     "output_type": "stream",
     "text": [
      "Processed 5 shifts. Total shifts: 5\n",
      "Processed 11 shifts. Total shifts: 16\n",
      "Processed 173 shifts. Total shifts: 189\n",
      "Processed 378 shifts. Total shifts: 567\n",
      "Processed 516 shifts. Total shifts: 1083\n",
      "Processed 673 shifts. Total shifts: 1756\n",
      "No more weeks to process.\n",
      "Total shifts collected: 1756\n"
     ]
    }
   ],
   "source": [
    "while True:\n",
    "    page = browser.get_current_page()\n",
    "    \n",
    "    shift_elements = page.find_all(class_='shift')\n",
    "    \n",
    "    for shift in shift_elements:\n",
    "        time = shift.b.text\n",
    "        shift.b.extract()\n",
    "        type = shift.text.replace('🥕', '').strip()\n",
    "        date = shift.parent.p.b.text.replace('\\xa0', ' ')\n",
    "        \n",
    "        shifts.append({\n",
    "            \"date\": date,\n",
    "            \"time\": time,\n",
    "            \"type\": type,\n",
    "            \"created\": current_time_hourly()\n",
    "        })\n",
    "    \n",
    "    print(f\"Processed {len(shift_elements)} shifts. Total shifts: {len(shifts)}\")\n",
    "    \n",
    "    try:\n",
    "        browser.follow_link(text=\"Next Week →\")\n",
    "    except mechanicalsoup.LinkNotFoundError:\n",
    "        print(\"No more weeks to process.\")\n",
    "        break\n",
    "\n",
    "print(f\"Total shifts collected: {len(shifts)}\")"
   ]
  },
  {
   "cell_type": "code",
   "execution_count": 7,
   "metadata": {},
   "outputs": [
    {
     "name": "stdout",
     "output_type": "stream",
     "text": [
      "Successfully connected to MongoDB\n"
     ]
    }
   ],
   "source": [
    "try:\n",
    "    client = pymongo.MongoClient(os.getenv(\"MONGODB_URI\"))\n",
    "    client.admin.command('ping')\n",
    "    print(\"Successfully connected to MongoDB\")\n",
    "except pymongo.errors.ConnectionFailure as e:\n",
    "    print(f\"Failed to connect to MongoDB: {e}\", file=sys.stderr)\n",
    "    sys.exit(1)"
   ]
  },
  {
   "cell_type": "code",
   "execution_count": 8,
   "metadata": {},
   "outputs": [
    {
     "name": "stdout",
     "output_type": "stream",
     "text": [
      "Successfully inserted 1756 documents\n"
     ]
    }
   ],
   "source": [
    "shift_collection = client['coop']['shifts']\n",
    "\n",
    "try:\n",
    "    result = shift_collection.insert_many(shifts)\n",
    "    print(f\"Successfully inserted {len(result.inserted_ids)} documents\")\n",
    "except pymongo.errors.BulkWriteError as e:\n",
    "    print(f\"Error inserting documents: {e}\", file=sys.stderr)\n",
    "    sys.exit(1)"
   ]
  }
 ],
 "metadata": {
  "kernelspec": {
   "display_name": "coop-scraper",
   "language": "python",
   "name": "python3"
  },
  "language_info": {
   "codemirror_mode": {
    "name": "ipython",
    "version": 3
   },
   "file_extension": ".py",
   "mimetype": "text/x-python",
   "name": "python",
   "nbconvert_exporter": "python",
   "pygments_lexer": "ipython3",
   "version": "3.10.14"
  }
 },
 "nbformat": 4,
 "nbformat_minor": 2
}
